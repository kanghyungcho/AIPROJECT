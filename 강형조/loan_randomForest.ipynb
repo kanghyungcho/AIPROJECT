{
 "cells": [
  {
   "cell_type": "code",
   "execution_count": 88,
   "metadata": {},
   "outputs": [],
   "source": [
    "# 필요한 모듈 불러오기\n",
    "%matplotlib inline\n",
    "\n",
    "import time\n",
    "import os\n",
    "import random\n",
    "import numpy as np\n",
    "import pandas as pd\n",
    "import seaborn as sns\n",
    "import matplotlib.pyplot as plt\n",
    "import matplotlib as mpl\n",
    "\n",
    "\n",
    "from sklearn.model_selection import train_test_split, GridSearchCV\n",
    "from sklearn.ensemble import RandomForestClassifier \n",
    "from sklearn.metrics import accuracy_score, f1_score,precision_score,recall_score\n",
    "from sklearn.metrics import confusion_matrix\n",
    "import sklearn.preprocessing as preprocessing\n",
    "\n",
    "sns.set()\n",
    "sns.set_style('white') \n",
    "sns.set_color_codes(palette='pastel')\n",
    "\n",
    "#plt.rcParams['axes.unicode_minus'] = False\n",
    "#path = 'C:/Windows/Fonts/malgun.ttf'\n",
    "#font_name = mpl.font_manager.FontProperties(fname=path, size=50).get_name()\n",
    "#print(font_name)\n",
    "#plt.rc('font', family=font_name)"
   ]
  },
  {
   "cell_type": "code",
   "execution_count": 89,
   "metadata": {},
   "outputs": [],
   "source": [
    "#데이토 로드 \n",
    "root_dir = '../[classification]loan_use/'\n",
    "data = pd.read_csv(os.path.join(root_dir,'loan_data.csv'))"
   ]
  },
  {
   "cell_type": "code",
   "execution_count": 90,
   "metadata": {},
   "outputs": [
    {
     "data": {
      "text/html": [
       "<div>\n",
       "<style scoped>\n",
       "    .dataframe tbody tr th:only-of-type {\n",
       "        vertical-align: middle;\n",
       "    }\n",
       "\n",
       "    .dataframe tbody tr th {\n",
       "        vertical-align: top;\n",
       "    }\n",
       "\n",
       "    .dataframe thead th {\n",
       "        text-align: right;\n",
       "    }\n",
       "</style>\n",
       "<table border=\"1\" class=\"dataframe\">\n",
       "  <thead>\n",
       "    <tr style=\"text-align: right;\">\n",
       "      <th></th>\n",
       "      <th>AGE</th>\n",
       "      <th>TOT_LOAN</th>\n",
       "      <th>TOT_LOAN_CRD</th>\n",
       "      <th>LOAN_BNK</th>\n",
       "      <th>LOAN_CPT</th>\n",
       "      <th>CRDT_CNT</th>\n",
       "      <th>GUARN_CNT</th>\n",
       "      <th>INCOME</th>\n",
       "      <th>LOAN_CRD_CNT</th>\n",
       "      <th>LATE_RATE</th>\n",
       "      <th>...</th>\n",
       "      <th>CALL_TIME</th>\n",
       "      <th>TEL_COST_MON</th>\n",
       "      <th>MOBILE_PRICE</th>\n",
       "      <th>SUSP_DAY</th>\n",
       "      <th>LATE_TEL</th>\n",
       "      <th>COMB_COMM</th>\n",
       "      <th>SEX</th>\n",
       "      <th>PAY_METHOD</th>\n",
       "      <th>JOB</th>\n",
       "      <th>TARGET</th>\n",
       "    </tr>\n",
       "  </thead>\n",
       "  <tbody>\n",
       "    <tr>\n",
       "      <th>0</th>\n",
       "      <td>40</td>\n",
       "      <td>6</td>\n",
       "      <td>6</td>\n",
       "      <td>6</td>\n",
       "      <td>0</td>\n",
       "      <td>0</td>\n",
       "      <td>0</td>\n",
       "      <td>4500</td>\n",
       "      <td>0</td>\n",
       "      <td>16</td>\n",
       "      <td>...</td>\n",
       "      <td>1.52</td>\n",
       "      <td>120</td>\n",
       "      <td>500</td>\n",
       "      <td>0</td>\n",
       "      <td>120</td>\n",
       "      <td>0</td>\n",
       "      <td>M</td>\n",
       "      <td>A</td>\n",
       "      <td>A</td>\n",
       "      <td>0</td>\n",
       "    </tr>\n",
       "    <tr>\n",
       "      <th>1</th>\n",
       "      <td>35</td>\n",
       "      <td>9</td>\n",
       "      <td>9</td>\n",
       "      <td>0</td>\n",
       "      <td>0</td>\n",
       "      <td>1</td>\n",
       "      <td>0</td>\n",
       "      <td>3700</td>\n",
       "      <td>0</td>\n",
       "      <td>9</td>\n",
       "      <td>...</td>\n",
       "      <td>2.14</td>\n",
       "      <td>100</td>\n",
       "      <td>800</td>\n",
       "      <td>0</td>\n",
       "      <td>0</td>\n",
       "      <td>0</td>\n",
       "      <td>M</td>\n",
       "      <td>C</td>\n",
       "      <td>B</td>\n",
       "      <td>0</td>\n",
       "    </tr>\n",
       "    <tr>\n",
       "      <th>2</th>\n",
       "      <td>55</td>\n",
       "      <td>9</td>\n",
       "      <td>9</td>\n",
       "      <td>0</td>\n",
       "      <td>0</td>\n",
       "      <td>0</td>\n",
       "      <td>0</td>\n",
       "      <td>6400</td>\n",
       "      <td>0</td>\n",
       "      <td>1</td>\n",
       "      <td>...</td>\n",
       "      <td>0.50</td>\n",
       "      <td>50</td>\n",
       "      <td>700</td>\n",
       "      <td>0</td>\n",
       "      <td>0</td>\n",
       "      <td>0</td>\n",
       "      <td>M</td>\n",
       "      <td>C</td>\n",
       "      <td>B</td>\n",
       "      <td>0</td>\n",
       "    </tr>\n",
       "    <tr>\n",
       "      <th>3</th>\n",
       "      <td>55</td>\n",
       "      <td>42</td>\n",
       "      <td>0</td>\n",
       "      <td>42</td>\n",
       "      <td>0</td>\n",
       "      <td>5</td>\n",
       "      <td>0</td>\n",
       "      <td>8900</td>\n",
       "      <td>0</td>\n",
       "      <td>13</td>\n",
       "      <td>...</td>\n",
       "      <td>2.61</td>\n",
       "      <td>80</td>\n",
       "      <td>900</td>\n",
       "      <td>0</td>\n",
       "      <td>0</td>\n",
       "      <td>0</td>\n",
       "      <td>M</td>\n",
       "      <td>B</td>\n",
       "      <td>C</td>\n",
       "      <td>0</td>\n",
       "    </tr>\n",
       "    <tr>\n",
       "      <th>4</th>\n",
       "      <td>40</td>\n",
       "      <td>36</td>\n",
       "      <td>36</td>\n",
       "      <td>36</td>\n",
       "      <td>0</td>\n",
       "      <td>3</td>\n",
       "      <td>1</td>\n",
       "      <td>0</td>\n",
       "      <td>0</td>\n",
       "      <td>2</td>\n",
       "      <td>...</td>\n",
       "      <td>2.11</td>\n",
       "      <td>10</td>\n",
       "      <td>900</td>\n",
       "      <td>0</td>\n",
       "      <td>0</td>\n",
       "      <td>1</td>\n",
       "      <td>F</td>\n",
       "      <td>B</td>\n",
       "      <td>B</td>\n",
       "      <td>0</td>\n",
       "    </tr>\n",
       "  </tbody>\n",
       "</table>\n",
       "<p>5 rows × 23 columns</p>\n",
       "</div>"
      ],
      "text/plain": [
       "   AGE  TOT_LOAN  TOT_LOAN_CRD  LOAN_BNK  LOAN_CPT  CRDT_CNT  GUARN_CNT  \\\n",
       "0   40         6             6         6         0         0          0   \n",
       "1   35         9             9         0         0         1          0   \n",
       "2   55         9             9         0         0         0          0   \n",
       "3   55        42             0        42         0         5          0   \n",
       "4   40        36            36        36         0         3          1   \n",
       "\n",
       "   INCOME  LOAN_CRD_CNT  LATE_RATE  ...    CALL_TIME  TEL_COST_MON  \\\n",
       "0    4500             0         16  ...         1.52           120   \n",
       "1    3700             0          9  ...         2.14           100   \n",
       "2    6400             0          1  ...         0.50            50   \n",
       "3    8900             0         13  ...         2.61            80   \n",
       "4       0             0          2  ...         2.11            10   \n",
       "\n",
       "   MOBILE_PRICE  SUSP_DAY  LATE_TEL  COMB_COMM  SEX  PAY_METHOD  JOB TARGET  \n",
       "0           500         0       120          0    M           A    A      0  \n",
       "1           800         0         0          0    M           C    B      0  \n",
       "2           700         0         0          0    M           C    B      0  \n",
       "3           900         0         0          0    M           B    C      0  \n",
       "4           900         0         0          1    F           B    B      0  \n",
       "\n",
       "[5 rows x 23 columns]"
      ]
     },
     "execution_count": 90,
     "metadata": {},
     "output_type": "execute_result"
    }
   ],
   "source": [
    "data.head()"
   ]
  },
  {
   "cell_type": "code",
   "execution_count": 91,
   "metadata": {},
   "outputs": [
    {
     "data": {
      "text/plain": [
       "Index(['AGE', 'TOT_LOAN', 'TOT_LOAN_CRD', 'LOAN_BNK', 'LOAN_CPT', 'CRDT_CNT',\n",
       "       'GUARN_CNT', 'INCOME', 'LOAN_CRD_CNT', 'LATE_RATE', 'LATE_RATE_1Y',\n",
       "       'INS_MON_MAX', 'CANCEL_CNT_1Y', 'CALL_TIME', 'TEL_COST_MON',\n",
       "       'MOBILE_PRICE', 'SUSP_DAY', 'LATE_TEL', 'COMB_COMM', 'SEX',\n",
       "       'PAY_METHOD', 'JOB', 'TARGET'],\n",
       "      dtype='object')"
      ]
     },
     "execution_count": 91,
     "metadata": {},
     "output_type": "execute_result"
    }
   ],
   "source": [
    "data.columns"
   ]
  },
  {
   "cell_type": "code",
   "execution_count": 92,
   "metadata": {},
   "outputs": [
    {
     "name": "stdout",
     "output_type": "stream",
     "text": [
      "<class 'pandas.core.frame.DataFrame'>\n",
      "RangeIndex: 43386 entries, 0 to 43385\n",
      "Data columns (total 23 columns):\n",
      "AGE              43386 non-null int64\n",
      "TOT_LOAN         43386 non-null int64\n",
      "TOT_LOAN_CRD     43386 non-null int64\n",
      "LOAN_BNK         43386 non-null int64\n",
      "LOAN_CPT         43386 non-null int64\n",
      "CRDT_CNT         43386 non-null int64\n",
      "GUARN_CNT        43386 non-null int64\n",
      "INCOME           43386 non-null int64\n",
      "LOAN_CRD_CNT     43386 non-null int64\n",
      "LATE_RATE        43386 non-null int64\n",
      "LATE_RATE_1Y     43386 non-null int64\n",
      "INS_MON_MAX      43386 non-null float64\n",
      "CANCEL_CNT_1Y    43386 non-null int64\n",
      "CALL_TIME        43386 non-null float64\n",
      "TEL_COST_MON     43386 non-null int64\n",
      "MOBILE_PRICE     43386 non-null int64\n",
      "SUSP_DAY         43386 non-null int64\n",
      "LATE_TEL         43386 non-null int64\n",
      "COMB_COMM        43386 non-null int64\n",
      "SEX              43386 non-null object\n",
      "PAY_METHOD       43386 non-null object\n",
      "JOB              43386 non-null object\n",
      "TARGET           43386 non-null int64\n",
      "dtypes: float64(2), int64(18), object(3)\n",
      "memory usage: 7.6+ MB\n"
     ]
    }
   ],
   "source": [
    "#데이터 타입 확인 \n",
    "data.info()"
   ]
  },
  {
   "cell_type": "code",
   "execution_count": 93,
   "metadata": {},
   "outputs": [
    {
     "name": "stdout",
     "output_type": "stream",
     "text": [
      "Sex ['M' 'F']\n",
      "PAY_METHOD ['A' 'C' 'B' 'D']\n",
      "JOB ['A' 'B' 'C' 'D']\n"
     ]
    }
   ],
   "source": [
    "#object 타입 총 범위 확인 \n",
    "print('Sex', data['SEX'].unique())\n",
    "print('PAY_METHOD',data['PAY_METHOD'].unique())\n",
    "print('JOB',data['JOB'].unique())"
   ]
  },
  {
   "cell_type": "code",
   "execution_count": 94,
   "metadata": {},
   "outputs": [],
   "source": [
    "#데이터 변경 dummy 말고 그냥 숫자 타입으로 변경 \n",
    "data['SEX'] = data['SEX'].map({'M':0,'F':1})\n",
    "data['PAY_METHOD'] = data['PAY_METHOD'].map({'A':0,'B':1,'C':2,'D':3})\n",
    "data['JOB'] = data['JOB'].map({'A':0,'B':1,'C':2,'D':3})\n"
   ]
  },
  {
   "cell_type": "code",
   "execution_count": 95,
   "metadata": {},
   "outputs": [
    {
     "data": {
      "text/html": [
       "<div>\n",
       "<style scoped>\n",
       "    .dataframe tbody tr th:only-of-type {\n",
       "        vertical-align: middle;\n",
       "    }\n",
       "\n",
       "    .dataframe tbody tr th {\n",
       "        vertical-align: top;\n",
       "    }\n",
       "\n",
       "    .dataframe thead th {\n",
       "        text-align: right;\n",
       "    }\n",
       "</style>\n",
       "<table border=\"1\" class=\"dataframe\">\n",
       "  <thead>\n",
       "    <tr style=\"text-align: right;\">\n",
       "      <th></th>\n",
       "      <th>AGE</th>\n",
       "      <th>TOT_LOAN</th>\n",
       "      <th>TOT_LOAN_CRD</th>\n",
       "      <th>LOAN_BNK</th>\n",
       "      <th>LOAN_CPT</th>\n",
       "      <th>CRDT_CNT</th>\n",
       "      <th>GUARN_CNT</th>\n",
       "      <th>INCOME</th>\n",
       "      <th>LOAN_CRD_CNT</th>\n",
       "      <th>LATE_RATE</th>\n",
       "      <th>...</th>\n",
       "      <th>CALL_TIME</th>\n",
       "      <th>TEL_COST_MON</th>\n",
       "      <th>MOBILE_PRICE</th>\n",
       "      <th>SUSP_DAY</th>\n",
       "      <th>LATE_TEL</th>\n",
       "      <th>COMB_COMM</th>\n",
       "      <th>SEX</th>\n",
       "      <th>PAY_METHOD</th>\n",
       "      <th>JOB</th>\n",
       "      <th>TARGET</th>\n",
       "    </tr>\n",
       "  </thead>\n",
       "  <tbody>\n",
       "    <tr>\n",
       "      <th>0</th>\n",
       "      <td>40</td>\n",
       "      <td>6</td>\n",
       "      <td>6</td>\n",
       "      <td>6</td>\n",
       "      <td>0</td>\n",
       "      <td>0</td>\n",
       "      <td>0</td>\n",
       "      <td>4500</td>\n",
       "      <td>0</td>\n",
       "      <td>16</td>\n",
       "      <td>...</td>\n",
       "      <td>1.52</td>\n",
       "      <td>120</td>\n",
       "      <td>500</td>\n",
       "      <td>0</td>\n",
       "      <td>120</td>\n",
       "      <td>0</td>\n",
       "      <td>0</td>\n",
       "      <td>0</td>\n",
       "      <td>0</td>\n",
       "      <td>0</td>\n",
       "    </tr>\n",
       "    <tr>\n",
       "      <th>1</th>\n",
       "      <td>35</td>\n",
       "      <td>9</td>\n",
       "      <td>9</td>\n",
       "      <td>0</td>\n",
       "      <td>0</td>\n",
       "      <td>1</td>\n",
       "      <td>0</td>\n",
       "      <td>3700</td>\n",
       "      <td>0</td>\n",
       "      <td>9</td>\n",
       "      <td>...</td>\n",
       "      <td>2.14</td>\n",
       "      <td>100</td>\n",
       "      <td>800</td>\n",
       "      <td>0</td>\n",
       "      <td>0</td>\n",
       "      <td>0</td>\n",
       "      <td>0</td>\n",
       "      <td>2</td>\n",
       "      <td>1</td>\n",
       "      <td>0</td>\n",
       "    </tr>\n",
       "    <tr>\n",
       "      <th>2</th>\n",
       "      <td>55</td>\n",
       "      <td>9</td>\n",
       "      <td>9</td>\n",
       "      <td>0</td>\n",
       "      <td>0</td>\n",
       "      <td>0</td>\n",
       "      <td>0</td>\n",
       "      <td>6400</td>\n",
       "      <td>0</td>\n",
       "      <td>1</td>\n",
       "      <td>...</td>\n",
       "      <td>0.50</td>\n",
       "      <td>50</td>\n",
       "      <td>700</td>\n",
       "      <td>0</td>\n",
       "      <td>0</td>\n",
       "      <td>0</td>\n",
       "      <td>0</td>\n",
       "      <td>2</td>\n",
       "      <td>1</td>\n",
       "      <td>0</td>\n",
       "    </tr>\n",
       "    <tr>\n",
       "      <th>3</th>\n",
       "      <td>55</td>\n",
       "      <td>42</td>\n",
       "      <td>0</td>\n",
       "      <td>42</td>\n",
       "      <td>0</td>\n",
       "      <td>5</td>\n",
       "      <td>0</td>\n",
       "      <td>8900</td>\n",
       "      <td>0</td>\n",
       "      <td>13</td>\n",
       "      <td>...</td>\n",
       "      <td>2.61</td>\n",
       "      <td>80</td>\n",
       "      <td>900</td>\n",
       "      <td>0</td>\n",
       "      <td>0</td>\n",
       "      <td>0</td>\n",
       "      <td>0</td>\n",
       "      <td>1</td>\n",
       "      <td>2</td>\n",
       "      <td>0</td>\n",
       "    </tr>\n",
       "    <tr>\n",
       "      <th>4</th>\n",
       "      <td>40</td>\n",
       "      <td>36</td>\n",
       "      <td>36</td>\n",
       "      <td>36</td>\n",
       "      <td>0</td>\n",
       "      <td>3</td>\n",
       "      <td>1</td>\n",
       "      <td>0</td>\n",
       "      <td>0</td>\n",
       "      <td>2</td>\n",
       "      <td>...</td>\n",
       "      <td>2.11</td>\n",
       "      <td>10</td>\n",
       "      <td>900</td>\n",
       "      <td>0</td>\n",
       "      <td>0</td>\n",
       "      <td>1</td>\n",
       "      <td>1</td>\n",
       "      <td>1</td>\n",
       "      <td>1</td>\n",
       "      <td>0</td>\n",
       "    </tr>\n",
       "  </tbody>\n",
       "</table>\n",
       "<p>5 rows × 23 columns</p>\n",
       "</div>"
      ],
      "text/plain": [
       "   AGE  TOT_LOAN  TOT_LOAN_CRD  LOAN_BNK  LOAN_CPT  CRDT_CNT  GUARN_CNT  \\\n",
       "0   40         6             6         6         0         0          0   \n",
       "1   35         9             9         0         0         1          0   \n",
       "2   55         9             9         0         0         0          0   \n",
       "3   55        42             0        42         0         5          0   \n",
       "4   40        36            36        36         0         3          1   \n",
       "\n",
       "   INCOME  LOAN_CRD_CNT  LATE_RATE   ...    CALL_TIME  TEL_COST_MON  \\\n",
       "0    4500             0         16   ...         1.52           120   \n",
       "1    3700             0          9   ...         2.14           100   \n",
       "2    6400             0          1   ...         0.50            50   \n",
       "3    8900             0         13   ...         2.61            80   \n",
       "4       0             0          2   ...         2.11            10   \n",
       "\n",
       "   MOBILE_PRICE  SUSP_DAY  LATE_TEL  COMB_COMM  SEX  PAY_METHOD  JOB  TARGET  \n",
       "0           500         0       120          0    0           0    0       0  \n",
       "1           800         0         0          0    0           2    1       0  \n",
       "2           700         0         0          0    0           2    1       0  \n",
       "3           900         0         0          0    0           1    2       0  \n",
       "4           900         0         0          1    1           1    1       0  \n",
       "\n",
       "[5 rows x 23 columns]"
      ]
     },
     "execution_count": 95,
     "metadata": {},
     "output_type": "execute_result"
    }
   ],
   "source": [
    "data.head()"
   ]
  },
  {
   "cell_type": "code",
   "execution_count": 96,
   "metadata": {},
   "outputs": [],
   "source": [
    "############# 데이터 전처리   x , y  분리 \n",
    "# split x variable to y variable\n",
    "x = data.loc[:,data.columns != 'TARGET']\n",
    "y = data.TARGET"
   ]
  },
  {
   "cell_type": "code",
   "execution_count": 97,
   "metadata": {},
   "outputs": [],
   "source": [
    "# 정규화\n",
    "X = preprocessing.minmax_scale(x)"
   ]
  },
  {
   "cell_type": "code",
   "execution_count": 98,
   "metadata": {},
   "outputs": [],
   "source": [
    "#행열처리 하기 위함? \n",
    "X = pd.DataFrame(X)\n",
    "X.columns = x.columns"
   ]
  },
  {
   "cell_type": "code",
   "execution_count": 99,
   "metadata": {},
   "outputs": [],
   "source": [
    "#####데이터 분리\n",
    "X_train, X_test, y_train, y_test = train_test_split(X,y,test_size = 0.30,random_state = 2017020558)"
   ]
  },
  {
   "cell_type": "code",
   "execution_count": 100,
   "metadata": {},
   "outputs": [],
   "source": [
    "rf_clf = RandomForestClassifier(random_state=2017020558)"
   ]
  },
  {
   "cell_type": "code",
   "execution_count": null,
   "metadata": {},
   "outputs": [],
   "source": [
    "np.random.seed(2017020558)\n",
    "start = time.time()\n",
    "\n",
    "param_dict = {'max_depth': [2,3,4,5],\n",
    "             'max_features' : ['auto','sqrt','log2', None],\n",
    "             'criterion': ['gini','entropy']}\n",
    "\n",
    "cv_rf = GridSearchCV(rf_clf, cv=5,\n",
    "                    param_grid=param_dict,\n",
    "                    n_jobs = 3)\n",
    "\n",
    "cv_rf.fit(X_train, y_train)\n",
    "\n",
    "print('Best Parameters using grid search: \\n',\n",
    "     cv_rf.best_params_)\n",
    "end = time.time()\n",
    "print('Time taken in grid search: {:.2f}'.format(end-start))"
   ]
  },
  {
   "cell_type": "code",
   "execution_count": null,
   "metadata": {},
   "outputs": [],
   "source": [
    "rf_clf.set_params(criterion='entropy', max_depth=4, max_features=None)"
   ]
  },
  {
   "cell_type": "code",
   "execution_count": null,
   "metadata": {},
   "outputs": [],
   "source": [
    "rf_clf.set_params(oob_score=True)\n",
    "\n",
    "min_estimators = 5\n",
    "max_estimators = 200\n",
    "\n",
    "error_rate = {}\n",
    "for i in range(min_estimators, max_estimators + 1):\n",
    "    rf_clf.set_params(n_estimators=i)\n",
    "    rf_clf.fit(X_train, y_train)\n",
    "    \n",
    "    oob_error = 1 - rf_clf.oob_score_\n",
    "    error_rate[i] = oob_error"
   ]
  },
  {
   "cell_type": "code",
   "execution_count": null,
   "metadata": {},
   "outputs": [],
   "source": [
    "error_rate"
   ]
  },
  {
   "cell_type": "code",
   "execution_count": null,
   "metadata": {},
   "outputs": [],
   "source": [
    "oob_series = pd.Series(error_rate)"
   ]
  },
  {
   "cell_type": "code",
   "execution_count": null,
   "metadata": {},
   "outputs": [],
   "source": [
    "type(oob_series)"
   ]
  },
  {
   "cell_type": "code",
   "execution_count": null,
   "metadata": {},
   "outputs": [],
   "source": [
    "fig, ax = plt.subplots(figsize=(10, 10))\n",
    "oob_series.plot(kind='line',\n",
    "                color = 'red')\n",
    "plt.xlabel('n_estimators')\n",
    "plt.ylabel('OOB Error Rate')\n",
    "plt.title('OOB Error Rate Across various Forest sizes \\n(From 5 to 200trees)')"
   ]
  },
  {
   "cell_type": "code",
   "execution_count": null,
   "metadata": {},
   "outputs": [],
   "source": [
    "print('OOB Error rate for 100 trees is: {0:.5f}'.format(oob_series[100]))"
   ]
  },
  {
   "cell_type": "code",
   "execution_count": null,
   "metadata": {},
   "outputs": [],
   "source": [
    "rf_clf.set_params(n_estimators=100,\n",
    "                  bootstrap = True,\n",
    "                  warm_start=False, \n",
    "                  oob_score=False)"
   ]
  },
  {
   "cell_type": "code",
   "execution_count": null,
   "metadata": {},
   "outputs": [],
   "source": [
    "rf_clf.fit(X_train, y_train)"
   ]
  },
  {
   "cell_type": "code",
   "execution_count": null,
   "metadata": {},
   "outputs": [],
   "source": [
    "imp = rf_clf.feature_importances_\n",
    "imp = pd.DataFrame([X.columns, imp]).T\n",
    "imp.columns = ['variables', 'importance']\n",
    "sorted_idx = np.argsort(imp['importance'])[::-1]\n",
    "imp = imp.iloc[sorted_idx,:]\n",
    "print(imp[imp['importance'] > 0.01])"
   ]
  },
  {
   "cell_type": "code",
   "execution_count": null,
   "metadata": {},
   "outputs": [],
   "source": [
    "fig, ax = plt.subplots(figsize=(7, 7))\n",
    "sns.barplot(x='variables', y='importance', data=imp, ax=ax)\n",
    "plt.setp(ax.get_xticklabels(), rotation=90)\n",
    "plt.show(fig)"
   ]
  },
  {
   "cell_type": "code",
   "execution_count": null,
   "metadata": {},
   "outputs": [],
   "source": [
    "y_test_pred = rf_clf.predict(X_test)\n",
    "print('- Accuracy (Test) : {:.4}'.format(accuracy_score(y_test, y_test_pred)))\n",
    "print('- Precision (Test) : {:.4}'.format(precision_score(y_test, y_test_pred)))\n",
    "print('-Recall (Test) : {:.4}'.format(recall_score(y_test, y_test_pred)))\n",
    "print('- F1 score (Test) : {:.4}'.format(f1_score(y_test, y_test_pred)))\n"
   ]
  },
  {
   "cell_type": "code",
   "execution_count": null,
   "metadata": {},
   "outputs": [],
   "source": [
    "cm_test = confusion_matrix(y_test, y_test_pred)\n",
    "cm_test = pd.DataFrame(cm_test, columns=['1', '0'])\n",
    "sns.heatmap(data=cm_test, annot=True, annot_kws={'size': 15})"
   ]
  },
  {
   "cell_type": "code",
   "execution_count": null,
   "metadata": {},
   "outputs": [],
   "source": [
    "cm=confusion_matrix(y_test,y_test_pred)\n",
    "cm"
   ]
  },
  {
   "cell_type": "code",
   "execution_count": null,
   "metadata": {},
   "outputs": [],
   "source": [
    "#정확도\n",
    "acc=(cm[0,0] + cm[1,1]) /sum(sum(cm[:,:]))\n",
    "#민감도\n",
    "sencifivity = cm[1,1]/sum(cm[1])\n",
    "#특이도\n",
    "specificity= cm[0,0]/sum(cm[0])\n",
    "  "
   ]
  },
  {
   "cell_type": "code",
   "execution_count": null,
   "metadata": {},
   "outputs": [],
   "source": [
    "print('-Recall (Test) : {:.4}'.format(sencifivity))\n",
    "print('-specificity (Test) : {:.4}'.format(specificity))"
   ]
  },
  {
   "cell_type": "code",
   "execution_count": null,
   "metadata": {},
   "outputs": [],
   "source": [
    "import math\n",
    "print('-GM (Test) : {:.4}'.format(math.sqrt(sencifivity * specificity)))"
   ]
  },
  {
   "cell_type": "code",
   "execution_count": null,
   "metadata": {},
   "outputs": [],
   "source": [
    "from imblearn.under_sampling import RandomUnderSampler\n",
    "from imblearn.under_sampling import TomekLinks\n",
    "from imblearn.under_sampling import CondensedNearestNeighbour\n",
    "from imblearn.under_sampling import OneSidedSelection\n",
    "\n",
    "from imblearn.over_sampling import RandomOverSampler\n",
    "from imblearn.over_sampling import SMOTE\n",
    "from imblearn.over_sampling import ADASYN"
   ]
  },
  {
   "cell_type": "code",
   "execution_count": null,
   "metadata": {},
   "outputs": [],
   "source": [
    "def plot_(X_resampled, y_resampled, remove = True):\n",
    "    # visualization \n",
    "    fig = plt.figure()\n",
    "    ax = fig.add_subplot(1, 1, 1)\n",
    "    \n",
    "    if remove == True:\n",
    "        idx_samples_removed = np.setdiff1d(np.arange(X_train.shape[0]),\n",
    "                                       idx_resampled)\n",
    "    \n",
    "        idx_class_0 = y_resampled == 0\n",
    "        plt.scatter(X_resampled[idx_class_0, 0], X_resampled[idx_class_0, 1],\n",
    "                    alpha=.5, label='Class #0')\n",
    "        plt.scatter(X_resampled[~idx_class_0, 0], X_resampled[~idx_class_0, 1],\n",
    "                    alpha=.5, label='Class #1')\n",
    "        plt.scatter(X_train[idx_samples_removed, 0], X_train[idx_samples_removed, 1],\n",
    "                    alpha=.5, label='Removed samples')\n",
    "    \n",
    "    else:    \n",
    "        \n",
    "        idx_class_0 = y_resampled == 0\n",
    "        plt.scatter(X_resampled[idx_class_0, 0], X_resampled[idx_class_0, 1],\n",
    "                    alpha=.5, label='Class #0')\n",
    "        plt.scatter(X_resampled[~idx_class_0, 0], X_resampled[~idx_class_0, 1],\n",
    "                    alpha=.5, label='Class #1')\n",
    "\n",
    "    # make nice plotting\n",
    "    ax.spines['top'].set_visible(False)\n",
    "    ax.spines['right'].set_visible(False)\n",
    "    ax.get_xaxis().tick_bottom()\n",
    "    ax.get_yaxis().tick_left()\n",
    "    ax.spines['left'].set_position(('outward', 10))\n",
    "    ax.spines['bottom'].set_position(('outward', 10))\n",
    "    #ax.set_xlim([-5, 5])\n",
    "    #ax.set_ylim([-5, 5])\n",
    "    \n",
    "    #plt.title('Under-sampling using random under-sampling')\n",
    "    plt.legend()\n",
    "    plt.tight_layout()\n",
    "    plt.show()"
   ]
  },
  {
   "cell_type": "code",
   "execution_count": null,
   "metadata": {},
   "outputs": [],
   "source": [
    "###############################################################################\n",
    "### SMOTE ('regular')\n",
    "\n",
    "sm = SMOTE(k_neighbors = 1, kind = 'regular')\n",
    "X_resampled, y_resampled = sm.fit_sample(X_train, y_train)\n",
    "\n",
    "plot_(X_train, y_train, remove = False)\n",
    "plot_(X_resampled, y_resampled, remove = True)\n",
    "\n",
    "\n",
    "rf_clf.fit(X_resampled, y_resampled)\n",
    "\n",
    "sm_rf_clf = rf_clf.fit(X_resampled, y_resampled)\n",
    "\n",
    "y_resampled_pred = rf_clf.predict(X_resampled)\n",
    "print('- Accuracy (Test) : {:.4}'.format(accuracy_score(y_resampled, y_resampled_pred)))\n",
    "print('- Precision (Test) : {:.4}'.format(precision_score(y_resampled, y_resampled_pred)))\n",
    "print('-Recall (Test) : {:.4}'.format(recall_score(y_resampled, y_resampled_pred)))\n",
    "print('- F1 score (Test) : {:.4}'.format(f1_score(y_resampled, y_resampled_pred)))\n",
    "\n",
    "sm_ = confusion_matrix(y_resampled, y_resampled_pred)\n",
    "#정확도\n",
    "acc=(sm_[0,0] + sm_[1,1]) /sum(sum(sm_[:,:]))\n",
    "#민감도\n",
    "sencifivity = sm_[1,1]/sum(sm_[1])\n",
    "#특이도\n",
    "specificity= sm_[0,0]/sum(sm_[0])\n",
    "print('-Recall (Test) : {:.4}'.format(sencifivity))\n",
    "print('-specificity (Test) : {:.4}'.format(specificity))\n",
    "print('-GM (Test) : {:.4}'.format(math.sqrt(sencifivity * specificity)))"
   ]
  },
  {
   "cell_type": "code",
   "execution_count": null,
   "metadata": {},
   "outputs": [],
   "source": []
  },
  {
   "cell_type": "code",
   "execution_count": null,
   "metadata": {},
   "outputs": [],
   "source": []
  },
  {
   "cell_type": "code",
   "execution_count": null,
   "metadata": {},
   "outputs": [],
   "source": []
  },
  {
   "cell_type": "code",
   "execution_count": null,
   "metadata": {},
   "outputs": [],
   "source": []
  },
  {
   "cell_type": "code",
   "execution_count": null,
   "metadata": {},
   "outputs": [],
   "source": []
  },
  {
   "cell_type": "code",
   "execution_count": null,
   "metadata": {},
   "outputs": [],
   "source": []
  },
  {
   "cell_type": "code",
   "execution_count": null,
   "metadata": {},
   "outputs": [],
   "source": []
  },
  {
   "cell_type": "code",
   "execution_count": null,
   "metadata": {},
   "outputs": [],
   "source": []
  },
  {
   "cell_type": "code",
   "execution_count": null,
   "metadata": {},
   "outputs": [],
   "source": []
  },
  {
   "cell_type": "code",
   "execution_count": null,
   "metadata": {},
   "outputs": [],
   "source": []
  }
 ],
 "metadata": {
  "kernelspec": {
   "display_name": "Python 3",
   "language": "python",
   "name": "python3"
  },
  "language_info": {
   "codemirror_mode": {
    "name": "ipython",
    "version": 3
   },
   "file_extension": ".py",
   "mimetype": "text/x-python",
   "name": "python",
   "nbconvert_exporter": "python",
   "pygments_lexer": "ipython3",
   "version": "3.7.0"
  }
 },
 "nbformat": 4,
 "nbformat_minor": 2
}
